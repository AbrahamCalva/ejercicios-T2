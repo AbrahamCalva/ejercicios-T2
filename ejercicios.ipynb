{
 "cells": [
  {
   "cell_type": "code",
   "execution_count": 2,
   "id": "249f2137-d09e-4704-8c6e-e15789596d8c",
   "metadata": {},
   "outputs": [],
   "source": [
    "import math"
   ]
  },
  {
   "cell_type": "markdown",
   "id": "5e6b77d3-1942-4b08-ae94-62ee9bcda36c",
   "metadata": {},
   "source": [
    "<strong>13. Cultura</strong> Una persona tiene un libro de cada uno de los autores siguientes:\n",
    "- Mario Vargas Llosa,\n",
    "- Alberto Ruy Sánchez, \n",
    "- Gabriel García Márquez, \n",
    "- Günther Grass, \n",
    "- Patrick Süskind, \n",
    "- Heinrich Böll, \n",
    "- Arturo Pérez-Reverte  \n",
    "- Camilo José Cela.\n",
    "\n",
    "Como aún no los ha leído, quiere ponerlos en una repisa cerca de su cama. De acuerdo con esto, determina:\n",
    "\n",
    "a) ¿De cuántas formas puede acomodar los libros sobre la repisa?\n",
    "\n",
    "Para el siguiente ejercicio tenemos que usar el factorial, el cual es es la multiplicacion de el numero al que le vamos a sacar el factorial, por todos sus numeros anteriores hasta llegar a 1 en este ejercicio sacaremos el factorial de **n** que en este caso es el numero total de autores.\n",
    "\n",
    "Para explicar un poco mejor la resolucion del problema tomaremos en cuenta lo siguiente, el numero total de autores es 8 y tenemos que saber de cuantas formas diferentes podemos acomodarlos, lo cual se puede representar asi: *(n * n-1 * n-2 * ... * n-7)*, para este caso **n** es: 8, asi que la resolucion del ejercicio sera:\n",
    "\n",
    "$$\n",
    "\\begin{align}\n",
    "    8 \\cdot (8-1) \\cdot (8-2) \\cdot (8-3) \\cdot (8-4) \\cdot (8-5) \\cdot (8-6) \\cdot (8-7) = X \n",
    "\\end{align}\n",
    "$$\n",
    "\n",
    "Lo cual es igual a:\n",
    "\n",
    "$$\n",
    "\\begin{align}\n",
    "    8 \\cdot 7 \\cdot 6 \\cdot 5 \\cdot 4 \\cdot 3 \\cdot 2 \\cdot 1 = 40320. \n",
    "\\end{align}\n",
    "$$"
   ]
  },
  {
   "cell_type": "code",
   "execution_count": 3,
   "id": "a2aea833-b3da-4a0d-9487-dcd4c3f5a211",
   "metadata": {},
   "outputs": [
    {
     "name": "stdout",
     "output_type": "stream",
     "text": [
      "Se pueden acomodar de: 40320 veces\n"
     ]
    }
   ],
   "source": [
    "n = 8\n",
    "formas_acomodar = math.factorial(n)\n",
    "print (\"Se pueden acomodar de:\" , formas_acomodar , \"veces\" )"
   ]
  },
  {
   "cell_type": "code",
   "execution_count": null,
   "id": "7f7d2411-a3fd-4a3a-af99-a8070756c4a4",
   "metadata": {},
   "outputs": [],
   "source": []
  }
 ],
 "metadata": {
  "kernelspec": {
   "display_name": "Python 3 (ipykernel)",
   "language": "python",
   "name": "python3"
  },
  "language_info": {
   "codemirror_mode": {
    "name": "ipython",
    "version": 3
   },
   "file_extension": ".py",
   "mimetype": "text/x-python",
   "name": "python",
   "nbconvert_exporter": "python",
   "pygments_lexer": "ipython3",
   "version": "3.12.2"
  }
 },
 "nbformat": 4,
 "nbformat_minor": 5
}
