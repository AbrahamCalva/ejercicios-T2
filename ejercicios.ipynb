{
 "cells": [
  {
   "cell_type": "code",
   "execution_count": 2,
   "id": "249f2137-d09e-4704-8c6e-e15789596d8c",
   "metadata": {},
   "outputs": [],
   "source": [
    "import math"
   ]
  },
  {
   "cell_type": "markdown",
   "id": "5e6b77d3-1942-4b08-ae94-62ee9bcda36c",
   "metadata": {},
   "source": [
    "<strong>13. Cultura</strong> Una persona tiene un libro de cada uno de los autores siguientes:\n",
    "- Mario Vargas Llosa,\n",
    "- Alberto Ruy Sánchez, \n",
    "- Gabriel García Márquez, \n",
    "- Günther Grass, \n",
    "- Patrick Süskind, \n",
    "- Heinrich Böll, \n",
    "- Arturo Pérez-Reverte  \n",
    "- Camilo José Cela.\n",
    "\n",
    "Como aún no los ha leído, quiere ponerlos en una repisa cerca de su cama. De acuerdo con esto, determina:\n",
    "\n",
    "a) ¿De cuántas formas puede acomodar los libros sobre la repisa?\n",
    "\n",
    "Para el siguiente ejercicio tenemos que usar el factorial, el cual es es la multiplicacion de el numero al que le vamos a sacar el factorial, por todos sus numeros anteriores hasta llegar a 1 en este ejercicio sacaremos el factorial de **n** que en este caso es el numero total de autores.\n",
    "\n",
    "Para explicar un poco mejor la resolucion del problema tomaremos en cuenta lo siguiente, el numero total de autores es 8 y tenemos que saber de cuantas formas diferentes podemos acomodarlos, lo cual se puede representar asi: *(n * n-1 * n-2 * ... * n-7)*, para este caso **n** es: 8, asi que la resolucion del ejercicio sera:\n",
    "\n",
    "$$\n",
    "\\begin{align}\n",
    "    8 \\cdot (8-1) \\cdot (8-2) \\cdot (8-3) \\cdot (8-4) \\cdot (8-5) \\cdot (8-6) \\cdot (8-7) = X \n",
    "\\end{align}\n",
    "$$\n",
    "\n",
    "Lo cual es igual a:\n",
    "\n",
    "$$\n",
    "\\begin{align}\n",
    "    8 \\cdot 7 \\cdot 6 \\cdot 5 \\cdot 4 \\cdot 3 \\cdot 2 \\cdot 1 = 40320. \n",
    "\\end{align}\n",
    "$$"
   ]
  },
  {
   "cell_type": "code",
   "execution_count": 3,
   "id": "a2aea833-b3da-4a0d-9487-dcd4c3f5a211",
   "metadata": {},
   "outputs": [
    {
     "name": "stdout",
     "output_type": "stream",
     "text": [
      "Se pueden acomodar de: 40320 veces\n"
     ]
    }
   ],
   "source": [
    "n = 8\n",
    "formas_acomodar = math.factorial(n)\n",
    "print (\"Se pueden acomodar de:\" , formas_acomodar , \"veces\" )"
   ]
  },
  {
   "cell_type": "markdown",
   "id": "c51a0166-b197-4296-b4cb-7d5abe5aba93",
   "metadata": {},
   "source": [
    "b) ¿De cuántas maneras puede ordenarlos si quiere que los libros de autores latinoamericanos estén juntos?\n",
    "\n",
    "Para resolver el siguiente ejercico tenemos que saber cuantos autores son latinoamericanos.\n",
    "\n",
    "\n",
    "- Mario Vargas Llosa - Peruano\n",
    "- Alberto Ruy Sánchez - Mexicano\n",
    "- Gabriel García Márquez - Colombiano\n",
    "- Günther Grass - Alemán\n",
    "- Patrick Süskind - Alemán\n",
    "- Heinrich Böll - Alemán\n",
    "- Arturo Pérez-Reverte - Español\n",
    "- Camilo José Cela - Español\n",
    "\n",
    "Como podemos observar hay 3 autores latinoamericanos, para poder acomodar todos los libros de autores latinoamericanos juntos haremos que todos ellos sean un solo dato al cual llamaremos latinos, asi que su representacion sera la siguiente: \n",
    "*(latinos, _, _, _, _, _)*, podemos observar que el conjunto de libros al cual denominamos como latinos esta de primero, ya que este conjunto contiene 3 de los 8 libros totales podemos saber que solo quedan 5 espacios para los demas libros, lo cual hara que cada uno de los espacios sean los valores del 5 al 1 y estos mismos se tienen que multiplicar, lo cual es lo mismo a sacar el factorial de 5, lo cual se representaria de la siguiente manera:\n",
    "\n",
    "$$\n",
    "\\begin{align}\n",
    "    5 \\cdot (5-1) \\cdot (5-2) \\cdot (5-3) \\cdot (8-4) = X \n",
    "\\end{align}\n",
    "$$\n",
    "\n",
    "Lo cual es igual a:\n",
    "\n",
    "$$\n",
    "\\begin{align}\n",
    "    5 \\cdot 4 \\cdot 3 \\cdot 2 \\cdot 1 = 120 \n",
    "\\end{align}\n",
    "$$\n",
    "\n",
    "Pero eso no es todo, ya que el acomodo de el conjunto puede variar en cada uno de los 6 espacios como se muestra a continuacion:\n",
    "- *(latinos, _, _, _, _, _)*\n",
    "- *(_, latinos, _, _, _, _)*\n",
    "- *(_, _, latinos, _, _, _)*\n",
    "- *(_, _, _, latinos, _, _)*\n",
    "- *(_, _, _, _, latinos, _)*\n",
    "- *(_, _, _, _, _, latinos)*\n",
    "\n",
    "Como podemos observar hay 6 pocisiones distintas en las que se puede acomodar, pero el resultado de cada uno los acomodos es el mismo, por lo cual podemos sacar el resultado de un acomodo y multiplicarlo por 6 lo cual seria igual a: \n",
    "\n",
    "$$\n",
    "\\begin{align}\n",
    "    120 \\cdot 6 = 720 \n",
    "\\end{align}\n",
    "$$\n",
    "\n",
    "Pero nuevamente no es todo, ya que aunque juntamos los 3 libros de autores latinoamericanos dentro de un conjunto, estos mismos pueden estar en un orden diferente, lo cual se puede representar con el factorial de 3, lo cual se puede representar de la siguiente forma, suponiendo que los 3 libros seran representados con los numeros 1, 2, 3 por lo cual sus formas de acomodarlos se podrian ver de la siguiente manera: *(3, 2, 1)* usando el factorial se representaria asi:\n",
    "\n",
    "$$\n",
    "\\begin{align}\n",
    "    3 \\cdot (3-1) \\cdot (3-2) = X \n",
    "\\end{align}\n",
    "$$\n",
    "\n",
    "lo cual es igual a:\n",
    "\n",
    "$$\n",
    "\\begin{align}\n",
    "    3 \\cdot 2 \\cdot 1 = 6\n",
    "\\end{align}\n",
    "$$\n",
    "\n",
    "por lo cual tomaremos el valor que ya teniamos **720** y lo multiplicaremos por el numero que acabamos de obtener lo cual es igual a:\n",
    "\n",
    "$$\n",
    "\\begin{align}\n",
    "    720 \\cdot 6 = 4320\n",
    "\\end{align}\n",
    "$$"
   ]
  },
  {
   "cell_type": "code",
   "execution_count": 4,
   "id": "8d124d9a-e384-4548-acf5-77122712e6d3",
   "metadata": {},
   "outputs": [
    {
     "name": "stdout",
     "output_type": "stream",
     "text": [
      "4320\n"
     ]
    }
   ],
   "source": [
    "latinos = 3\n",
    "no_latinos = 5\n",
    "no_lugares_latinos = 6\n",
    "orden_latinos = math.factorial(no_latinos) * math.factorial(latinos) * no_lugares_latinos\n",
    "print (orden_latinos)"
   ]
  },
  {
   "cell_type": "code",
   "execution_count": null,
   "id": "baedc6d5-7a8c-43ff-941e-7f01c0bccd1d",
   "metadata": {},
   "outputs": [],
   "source": []
  }
 ],
 "metadata": {
  "kernelspec": {
   "display_name": "Python 3 (ipykernel)",
   "language": "python",
   "name": "python3"
  },
  "language_info": {
   "codemirror_mode": {
    "name": "ipython",
    "version": 3
   },
   "file_extension": ".py",
   "mimetype": "text/x-python",
   "name": "python",
   "nbconvert_exporter": "python",
   "pygments_lexer": "ipython3",
   "version": "3.12.2"
  }
 },
 "nbformat": 4,
 "nbformat_minor": 5
}
