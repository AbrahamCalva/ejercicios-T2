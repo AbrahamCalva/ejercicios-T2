{
 "cells": [
  {
   "cell_type": "code",
   "execution_count": 2,
   "id": "249f2137-d09e-4704-8c6e-e15789596d8c",
   "metadata": {},
   "outputs": [],
   "source": [
    "import math"
   ]
  },
  {
   "cell_type": "markdown",
   "id": "5e6b77d3-1942-4b08-ae94-62ee9bcda36c",
   "metadata": {},
   "source": [
    "<strong>13. Cultura</strong> Una persona tiene un libro de cada uno de los autores siguientes:\n",
    "- Mario Vargas Llosa,\n",
    "- Alberto Ruy Sánchez, \n",
    "- Gabriel García Márquez, \n",
    "- Günther Grass, \n",
    "- Patrick Süskind, \n",
    "- Heinrich Böll, \n",
    "- Arturo Pérez-Reverte  \n",
    "- Camilo José Cela.\n",
    "\n",
    "Como aún no los ha leído, quiere ponerlos en una repisa cerca de su cama. De acuerdo con esto, determina:\n",
    "\n",
    "<strong>a)</strong> ¿De cuántas formas puede acomodar los libros sobre la repisa?\n",
    "\n",
    "Para el siguiente ejercicio tenemos que usar el factorial, el cual es es la multiplicacion de el numero al que le vamos a sacar el factorial, por todos sus numeros anteriores hasta llegar a 1 en este ejercicio sacaremos el factorial de **n** que en este caso es el numero total de autores.\n",
    "\n",
    "Para explicar un poco mejor la resolucion del problema tomaremos en cuenta lo siguiente, el numero total de autores es 8 y tenemos que saber de cuantas formas diferentes podemos acomodarlos, lo cual se puede representar asi: *(n * n-1 * n-2 * ... * n-7)*, para este caso **n** es: 8, asi que la resolucion del ejercicio sera:\n",
    "\n",
    "$$\n",
    "\\begin{align}\n",
    "    8 \\cdot (8-1) \\cdot (8-2) \\cdot (8-3) \\cdot (8-4) \\cdot (8-5) \\cdot (8-6) \\cdot (8-7) = X \n",
    "\\end{align}\n",
    "$$\n",
    "\n",
    "Lo cual es igual a:\n",
    "\n",
    "$$\n",
    "\\begin{align}\n",
    "    8 \\cdot 7 \\cdot 6 \\cdot 5 \\cdot 4 \\cdot 3 \\cdot 2 \\cdot 1 = 40320. \n",
    "\\end{align}\n",
    "$$"
   ]
  },
  {
   "cell_type": "code",
   "execution_count": 3,
   "id": "a2aea833-b3da-4a0d-9487-dcd4c3f5a211",
   "metadata": {},
   "outputs": [
    {
     "name": "stdout",
     "output_type": "stream",
     "text": [
      "Se pueden acomodar de: 40320 veces\n"
     ]
    }
   ],
   "source": [
    "n = 8\n",
    "formas_acomodar = math.factorial(n)\n",
    "print (\"Se pueden acomodar de:\" , formas_acomodar , \"veces\" )"
   ]
  },
  {
   "cell_type": "markdown",
   "id": "c51a0166-b197-4296-b4cb-7d5abe5aba93",
   "metadata": {},
   "source": [
    "<strong>b)</strong> ¿De cuántas maneras puede ordenarlos si quiere que los libros de autores latinoamericanos estén juntos?\n",
    "\n",
    "Para resolver el siguiente ejercico tenemos que saber cuantos autores son latinoamericanos.\n",
    "\n",
    "\n",
    "- Mario Vargas Llosa - Peruano\n",
    "- Alberto Ruy Sánchez - Mexicano\n",
    "- Gabriel García Márquez - Colombiano\n",
    "- Günther Grass - Alemán\n",
    "- Patrick Süskind - Alemán\n",
    "- Heinrich Böll - Alemán\n",
    "- Arturo Pérez-Reverte - Español\n",
    "- Camilo José Cela - Español\n",
    "\n",
    "Como podemos observar hay 3 autores latinoamericanos, para poder acomodar todos los libros de autores latinoamericanos juntos haremos que todos ellos sean un solo dato al cual llamaremos latinos, asi que su representacion sera la siguiente: \n",
    "*(latinos, _, _, _, _, _)*, podemos observar que el conjunto de libros al cual denominamos como latinos esta de primero, ya que este conjunto contiene 3 de los 8 libros totales podemos saber que solo quedan 5 espacios para los demas libros, lo cual hara que cada uno de los espacios sean los valores del 5 al 1 y estos mismos se tienen que multiplicar, lo cual es lo mismo a sacar el factorial de 5, lo cual se representaria de la siguiente manera:\n",
    "\n",
    "$$\n",
    "\\begin{align}\n",
    "    5 \\cdot (5-1) \\cdot (5-2) \\cdot (5-3) \\cdot (5-4) = X \n",
    "\\end{align}\n",
    "$$\n",
    "\n",
    "Lo cual es igual a:\n",
    "\n",
    "$$\n",
    "\\begin{align}\n",
    "    5 \\cdot 4 \\cdot 3 \\cdot 2 \\cdot 1 = 120 \n",
    "\\end{align}\n",
    "$$\n",
    "\n",
    "Pero eso no es todo, ya que el acomodo de el conjunto puede variar en cada uno de los 6 espacios como se muestra a continuacion:\n",
    "- *(latinos, _, _, _, _, _)*\n",
    "- *(_, latinos, _, _, _, _)*\n",
    "- *(_, _, latinos, _, _, _)*\n",
    "- *(_, _, _, latinos, _, _)*\n",
    "- *(_, _, _, _, latinos, _)*\n",
    "- *(_, _, _, _, _, latinos)*\n",
    "\n",
    "Como podemos observar hay 6 pocisiones distintas en las que se puede acomodar, pero el resultado de cada uno los acomodos es el mismo, por lo cual podemos sacar el resultado de un acomodo y multiplicarlo por 6 lo cual seria igual a: \n",
    "\n",
    "$$\n",
    "\\begin{align}\n",
    "    120 \\cdot 6 = 720 \n",
    "\\end{align}\n",
    "$$\n",
    "\n",
    "Pero nuevamente no es todo, ya que aunque juntamos los 3 libros de autores latinoamericanos dentro de un conjunto, estos mismos pueden estar en un orden diferente, lo cual se puede representar con el factorial de 3, lo cual se puede representar de la siguiente forma, suponiendo que los 3 libros seran representados con los numeros 1, 2, 3 por lo cual sus formas de acomodarlos se podrian ver de la siguiente manera: *(3, 2, 1)* usando el factorial se representaria asi:\n",
    "\n",
    "$$\n",
    "\\begin{align}\n",
    "    3 \\cdot (3-1) \\cdot (3-2) = X \n",
    "\\end{align}\n",
    "$$\n",
    "\n",
    "lo cual es igual a:\n",
    "\n",
    "$$\n",
    "\\begin{align}\n",
    "    3 \\cdot 2 \\cdot 1 = 6\n",
    "\\end{align}\n",
    "$$\n",
    "\n",
    "por lo cual tomaremos el valor que ya teniamos **720** y lo multiplicaremos por el numero que acabamos de obtener lo cual es igual a:\n",
    "\n",
    "$$\n",
    "\\begin{align}\n",
    "    720 \\cdot 6 = 4320\n",
    "\\end{align}\n",
    "$$"
   ]
  },
  {
   "cell_type": "code",
   "execution_count": 4,
   "id": "8d124d9a-e384-4548-acf5-77122712e6d3",
   "metadata": {},
   "outputs": [
    {
     "name": "stdout",
     "output_type": "stream",
     "text": [
      "4320\n"
     ]
    }
   ],
   "source": [
    "latinos = 3\n",
    "no_latinos = 5\n",
    "no_lugares_latinos = 6\n",
    "orden_latinos = math.factorial(no_latinos) * math.factorial(latinos) * no_lugares_latinos\n",
    "print (orden_latinos)"
   ]
  },
  {
   "cell_type": "markdown",
   "id": "96b3ed0e-b7fb-4ed2-974e-ed4bad33fd54",
   "metadata": {},
   "source": [
    "<strong>c)</strong> ¿De cuántas formas puede acomodarlos, si los autores latinoamericanos deben estar juntos, así como los autores alemanes y los españoles también?\n",
    "\n",
    "Para resolver el siguiente inciso tendremos en cuenta todo lo que hemos hecho en los incisos anteriores,se nos pide es juntar los autores en 3 grupos: latinos, alemanes, españoles y despues averiguar de cuantas formas diferentes lo podemos acomodar.\n",
    "\n",
    "- Mario Vargas Llosa - Peruano\n",
    "- Alberto Ruy Sánchez - Mexicano\n",
    "- Gabriel García Márquez - Colombiano\n",
    "- Günther Grass - Alemán\n",
    "- Patrick Süskind - Alemán\n",
    "- Heinrich Böll - Alemán\n",
    "- Arturo Pérez-Reverte - Español\n",
    "- Camilo José Cela - Español\n",
    "\n",
    "Como podemos observar hay 3 autores latinos, 3 alemanes y 2 españoles, lo primero que haremos sera sacar el factorial de cada uno de ellos, como se muetra a continuacion:\n",
    "\n",
    "<strong>Latinos</strong>\n",
    "\n",
    "$$\n",
    "\\begin{align}\n",
    "    3 \\cdot (3-1) \\cdot (3-2) = X \n",
    "\\end{align}\n",
    "$$\n",
    "\n",
    "lo cual es igual a:\n",
    "\n",
    "$$\n",
    "\\begin{align}\n",
    "    3 \\cdot 2 \\cdot 1 = 6\n",
    "\\end{align}\n",
    "$$\n",
    "\n",
    "<strong>Alemanes</strong>\n",
    "\n",
    "$$\n",
    "\\begin{align}\n",
    "    3 \\cdot (3-1) \\cdot (3-2) = X \n",
    "\\end{align}\n",
    "$$\n",
    "\n",
    "lo cual es igual a:\n",
    "\n",
    "$$\n",
    "\\begin{align}\n",
    "    3 \\cdot 2 \\cdot 1 = 6\n",
    "\\end{align}\n",
    "$$\n",
    "\n",
    "<strong>Españoles</strong>\n",
    "\n",
    "$$\n",
    "\\begin{align}\n",
    "    2 \\cdot (2-1) = X \n",
    "\\end{align}\n",
    "$$\n",
    "\n",
    "lo cual es igual a:\n",
    "\n",
    "$$\n",
    "\\begin{align}\n",
    "    2 \\cdot 1 = 2\n",
    "\\end{align}\n",
    "$$\n",
    "\n",
    "Una vez hecho eso sacaremos el factorial de el numero de pociciones en los que pueden estar cada uno, como se ejemplifica a continuacion:\n",
    "\n",
    "\n",
    "- *(latinos, _, _)*\n",
    "- *(_, latinos, _)*\n",
    "- *(_, _, latinos)*\n",
    "\n",
    "Con la ejemplificacion anterior nos podemos dar cuenta que hay 3 formas diferentes de acomodarlos, por lo cual sacaremos el factorial de 3, como se muestra a continuacion:\n",
    "\n",
    "$$\n",
    "\\begin{align}\n",
    "    3 \\cdot (3-1) \\cdot (3-2) = X \n",
    "\\end{align}\n",
    "$$\n",
    "\n",
    "lo cual es igual a:\n",
    "\n",
    "$$\n",
    "\\begin{align}\n",
    "    3 \\cdot 2 \\cdot 1 = 6\n",
    "\\end{align}\n",
    "$$\n",
    "\n",
    "Una vez hecho eso, multiplicaremos los resultados de los factoriales del numero de autores por el numero de pocisiones.\n",
    "\n",
    "$$\n",
    "\\begin{align}\n",
    "    6 \\cdot 6 \\cdot 2 \\cdot 6 = X \n",
    "\\end{align}\n",
    "$$\n",
    "\n",
    "$$\n",
    "\\begin{align}\n",
    "    36 \\cdot 2 \\cdot 6 = X \n",
    "\\end{align}\n",
    "$$\n",
    "\n",
    "$$\n",
    "\\begin{align}\n",
    "    72 \\cdot 6 = 432\n",
    "\\end{align}\n",
    "$$\n",
    "\n"
   ]
  },
  {
   "cell_type": "code",
   "execution_count": 7,
   "id": "d39290e1-5694-4201-9fed-688a50ea3ba4",
   "metadata": {},
   "outputs": [
    {
     "name": "stdout",
     "output_type": "stream",
     "text": [
      "432\n"
     ]
    }
   ],
   "source": [
    "latinos = 3\n",
    "alemanes = 3\n",
    "españoles = 2\n",
    "\n",
    "fl = math.factorial(latinos)\n",
    "fa = math.factorial(alemanes)\n",
    "fe = math.factorial(españoles)\n",
    "\n",
    "n = math.factorial(3)\n",
    "\n",
    "autores_ordenados = (fl * fa * fe) * n\n",
    "\n",
    "print(autores_ordenados)"
   ]
  },
  {
   "cell_type": "markdown",
   "id": "16735eb2-283d-4057-b9a4-3edc5da64579",
   "metadata": {},
   "source": [
    "**d)** Determina las probabilidades correspondientes a los incisos *(b)* y *(c)*.\n",
    "\n",
    "Para poder determinar la probabilidad debemos de dividir el numero de casos favorables entre el numero de casos totales, el numero de casos totales es de: *40320*, para el inciso **b** el numero de casos favorables es de: *4320* por lo cual el calculo de la probabilidad quedaria de la siguiente manera:\n",
    "\n",
    "$$\n",
    "\\begin{align}\n",
    "    \\dfrac{4320}{40320} = 0.10714285714285714\n",
    "\\end{align}\n",
    "$$\n",
    "\n",
    "y para el inciso **c** quedaria de la siguiente forma:\n",
    "\n",
    "$$\n",
    "\\begin{align}\n",
    "    \\dfrac{432}{40320} = 0.010714285714285714\n",
    "\\end{align}\n",
    "$$"
   ]
  },
  {
   "cell_type": "code",
   "execution_count": 20,
   "id": "fd07af91-1629-45ef-88af-2bf0fe960714",
   "metadata": {},
   "outputs": [
    {
     "name": "stdout",
     "output_type": "stream",
     "text": [
      "0.10714285714285714\n",
      "0.010714285714285714\n"
     ]
    }
   ],
   "source": [
    "casos_fav = 40320\n",
    "inciso_b = 4320\n",
    "inciso_c = 432\n",
    "\n",
    "print(inciso_b/casos_fav)\n",
    "print(inciso_c/casos_fav)"
   ]
  },
  {
   "cell_type": "markdown",
   "id": "89bf26e8-b6bc-46d5-912c-400db40cb3bc",
   "metadata": {},
   "source": [
    "**15. Futbol.** Tres parejas (tres hombres y tres mujeres) compran boletos para ir a un partido de los Pumas. Cuando llegan al estadio de Ciudad Universitaria les surge la duda de cómo sentarse en la fila. ¿De cuántas maneras pueden hacerlo si:\n",
    "\n",
    "**a)** No hay restricciones?\n",
    "\n",
    "Para este ejercicio tomaremos como base lo aprendido en el ejercicio anterior (13) por lo cual sabemos que para saber de cuantas formas se pueden sentar tenemos que sacar el factorial de 6, lo cual se veria de la siguiente forma:\n",
    "\n",
    "$$\n",
    "\\begin{align}\n",
    "    6 \\cdot (6-1) \\cdot (6-2) \\cdot (6-3) \\cdot (6-4) \\cdot (6-5) = X \n",
    "\\end{align}\n",
    "$$\n",
    "\n",
    "Lo cual es igual a:\n",
    "\n",
    "$$\n",
    "\\begin{align}\n",
    "    6 \\cdot 5 \\cdot 4 \\cdot 3 \\cdot 2 \\cdot 1 = 720. \n",
    "\\end{align}\n",
    "$$"
   ]
  },
  {
   "cell_type": "code",
   "execution_count": 22,
   "id": "c6859ce6-cca6-47c9-8a72-72cc1a941fda",
   "metadata": {},
   "outputs": [
    {
     "name": "stdout",
     "output_type": "stream",
     "text": [
      "720\n"
     ]
    }
   ],
   "source": [
    "no_r = math.factorial(6)\n",
    "print(no_r)"
   ]
  },
  {
   "cell_type": "markdown",
   "id": "531998c8-2639-4026-8248-6c4e33f58288",
   "metadata": {},
   "source": [
    "**b)** Los hombres deben sentarse juntos?\n",
    "\n",
    "Para este inciso tomaremos en cuenta que son 3 hombres, por lo cual ya sabemos que el paso siguiente es sacar el factorial 3, como se muestra a continuacion:\n",
    "\n",
    "$$\n",
    "\\begin{align}\n",
    "    3 \\cdot (3-1) \\cdot (3-2) = X \n",
    "\\end{align}\n",
    "$$\n",
    "\n",
    "lo cual es igual a:\n",
    "\n",
    "$$\n",
    "\\begin{align}\n",
    "    3 \\cdot 2 \\cdot 1 = 6\n",
    "\\end{align}\n",
    "$$\n",
    "\n",
    "Y despues sacaremos el factorial de el numero total de espacios el cual es 4, lo cual representaremos a continuacion: \n",
    "\n",
    "- *(hombres, _, _, _)*\n",
    "- *(_, hombres, _, _)*\n",
    "- *(_, _, hombres, _)*\n",
    "- *(_, _, _, hombres)*\n",
    "\n",
    "Bueno, una vez entendimos el porque vamos a sacar el factorial de 4 lo calcularemos :\n",
    "\n",
    "$$\n",
    "\\begin{align}\n",
    "    4 \\cdot (4-1) \\cdot (4-2) \\cdot (4-3) = X \n",
    "\\end{align}\n",
    "$$\n",
    "\n",
    "lo cual es igual a:\n",
    "\n",
    "$$\n",
    "\\begin{align}\n",
    "    4 \\cdot 3 \\cdot 2 \\cdot 1 = 24\n",
    "\\end{align}\n",
    "$$\n",
    "\n",
    "Y despues multiplicaremos ambos resultados, lo cual es igual a:\n",
    "\n",
    "$$\n",
    "\\begin{align}\n",
    "    6 \\cdot 24 = 144\n",
    "\\end{align}\n",
    "$$\n"
   ]
  },
  {
   "cell_type": "code",
   "execution_count": 23,
   "id": "81cab5aa-c358-424f-8a79-4613a3919631",
   "metadata": {},
   "outputs": [
    {
     "name": "stdout",
     "output_type": "stream",
     "text": [
      "144\n"
     ]
    }
   ],
   "source": [
    "hombres_juntos = math.factorial(4) * math.factorial(3)\n",
    "print(hombres_juntos)\n"
   ]
  }
 ],
 "metadata": {
  "kernelspec": {
   "display_name": "Python 3 (ipykernel)",
   "language": "python",
   "name": "python3"
  },
  "language_info": {
   "codemirror_mode": {
    "name": "ipython",
    "version": 3
   },
   "file_extension": ".py",
   "mimetype": "text/x-python",
   "name": "python",
   "nbconvert_exporter": "python",
   "pygments_lexer": "ipython3",
   "version": "3.12.2"
  }
 },
 "nbformat": 4,
 "nbformat_minor": 5
}
